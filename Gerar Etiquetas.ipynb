{
 "cells": [
  {
   "cell_type": "code",
   "execution_count": 54,
   "metadata": {},
   "outputs": [
    {
     "name": "stdout",
     "output_type": "stream",
     "text": [
      "Galpão: a\n",
      "Fila Inicial: a\n",
      "Fila Final: h\n",
      "Posição Inicial: 1\n",
      "Posição Final: 25\n",
      "['AA1', 'AA2', 'AA3', 'AA4', 'AA5', 'AA6', 'AA7', 'AA8', 'AA9', 'AA10', 'AA11', 'AA12', 'AA13', 'AA14', 'AA15', 'AA16', 'AA17', 'AA18', 'AA19', 'AA20', 'AA21', 'AA22', 'AA23', 'AA24', 'AA25', 'AB1', 'AB2', 'AB3', 'AB4', 'AB5', 'AB6', 'AB7', 'AB8', 'AB9', 'AB10', 'AB11', 'AB12', 'AB13', 'AB14', 'AB15', 'AB16', 'AB17', 'AB18', 'AB19', 'AB20', 'AB21', 'AB22', 'AB23', 'AB24', 'AB25', 'AC1', 'AC2', 'AC3', 'AC4', 'AC5', 'AC6', 'AC7', 'AC8', 'AC9', 'AC10', 'AC11', 'AC12', 'AC13', 'AC14', 'AC15', 'AC16', 'AC17', 'AC18', 'AC19', 'AC20', 'AC21', 'AC22', 'AC23', 'AC24', 'AC25', 'AD1', 'AD2', 'AD3', 'AD4', 'AD5', 'AD6', 'AD7', 'AD8', 'AD9', 'AD10', 'AD11', 'AD12', 'AD13', 'AD14', 'AD15', 'AD16', 'AD17', 'AD18', 'AD19', 'AD20', 'AD21', 'AD22', 'AD23', 'AD24', 'AD25', 'AE1', 'AE2', 'AE3', 'AE4', 'AE5', 'AE6', 'AE7', 'AE8', 'AE9', 'AE10', 'AE11', 'AE12', 'AE13', 'AE14', 'AE15', 'AE16', 'AE17', 'AE18', 'AE19', 'AE20', 'AE21', 'AE22', 'AE23', 'AE24', 'AE25', 'AF1', 'AF2', 'AF3', 'AF4', 'AF5', 'AF6', 'AF7', 'AF8', 'AF9', 'AF10', 'AF11', 'AF12', 'AF13', 'AF14', 'AF15', 'AF16', 'AF17', 'AF18', 'AF19', 'AF20', 'AF21', 'AF22', 'AF23', 'AF24', 'AF25', 'AG1', 'AG2', 'AG3', 'AG4', 'AG5', 'AG6', 'AG7', 'AG8', 'AG9', 'AG10', 'AG11', 'AG12', 'AG13', 'AG14', 'AG15', 'AG16', 'AG17', 'AG18', 'AG19', 'AG20', 'AG21', 'AG22', 'AG23', 'AG24', 'AG25', 'AH1', 'AH2', 'AH3', 'AH4', 'AH5', 'AH6', 'AH7', 'AH8', 'AH9', 'AH10', 'AH11', 'AH12', 'AH13', 'AH14', 'AH15', 'AH16', 'AH17', 'AH18', 'AH19', 'AH20', 'AH21', 'AH22', 'AH23', 'AH24', 'AH25']\n"
     ]
    }
   ],
   "source": [
    "galpao = str(input('Galpão: ')).upper()\n",
    "fila_ini = str(input('Fila Inicial: ')).upper()\n",
    "fila_fim = str(input('Fila Final: ')).upper()\n",
    "pos_ini = int(input('Posição Inicial: '))\n",
    "pos_fim = int(input('Posição Final: '))\n",
    "\n",
    "etiquetas = []\n",
    "\n",
    "fila = fila_ini\n",
    "\n",
    "while fila != chr(ord(fila_fim) + 1):\n",
    "    for n in range(pos_fim):\n",
    "        tag = galpao + fila + str(n + 1)\n",
    "        etiquetas.append(tag)\n",
    "    fila = chr(ord(fila) + 1)    \n",
    "\n",
    "print(etiquetas)"
   ]
  }
 ],
 "metadata": {
  "kernelspec": {
   "display_name": "Python 3",
   "language": "python",
   "name": "python3"
  },
  "language_info": {
   "codemirror_mode": {
    "name": "ipython",
    "version": 3
   },
   "file_extension": ".py",
   "mimetype": "text/x-python",
   "name": "python",
   "nbconvert_exporter": "python",
   "pygments_lexer": "ipython3",
   "version": "3.7.3"
  }
 },
 "nbformat": 4,
 "nbformat_minor": 2
}
